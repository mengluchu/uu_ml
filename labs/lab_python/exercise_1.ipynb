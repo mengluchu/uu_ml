{
  "nbformat": 4,
  "nbformat_minor": 0,
  "metadata": {
    "colab": {
      "name": "exercise_1.ipynb",
      "provenance": [],
      "collapsed_sections": []
    },
    "kernelspec": {
      "name": "python3",
      "display_name": "Python 3"
    },
    "language_info": {
      "name": "python"
    }
  },
  "cells": [
    {
      "cell_type": "markdown",
      "metadata": {
        "id": "sZaavnmW13EP"
      },
      "source": [
        "## **Exercise 1**: use the assignment operator to calculate \"5 to the power of 2\". "
      ]
    },
    {
      "cell_type": "markdown",
      "metadata": {
        "id": "_rX_1OSwzeRM"
      },
      "source": [
        "## **Exercise 2**:  What about the boolean logics between two lists and arrays?"
      ]
    },
    {
      "cell_type": "code",
      "metadata": {
        "colab": {
          "base_uri": "https://localhost:8080/"
        },
        "id": "r7mYm-zAzq-1",
        "outputId": "1b623a25-e1e2-4745-be09-1d990da73f1e"
      },
      "source": [
        "#Hints\n",
        "a = [1,2,3,4,5]\n",
        "b = [3,4,5,6,7]\n",
        "#a and b\n",
        "#> b #The program evaluates a, a is truthy, it evaluates b, b is truthy, so it returns the last evaluated value, b.\n",
        "#a or b\n",
        "#> a #The program evaluates a, a is truthy, so the or statement is true, so it returns the last evaluated value, a.\n",
        "import numpy as np\n",
        "a = np.array([True, False, False])\n",
        "b = np.array([True, True, False])\n",
        "a & b\n",
        "#array([ True, False, False], dtype=bool)\n",
        "a | b\n",
        "#array([ True,  True, False], dtype=bool)"
      ],
      "execution_count": null,
      "outputs": [
        {
          "output_type": "stream",
          "text": [
            "[3, 4, 5, 6, 7]\n"
          ],
          "name": "stdout"
        }
      ]
    },
    {
      "cell_type": "markdown",
      "metadata": {
        "id": "X4S596n76yoH"
      },
      "source": [
        "##**Exercise 3**, given a list: nums = [0, 1, 2, 3, 4], get a new list consists of only even numbers and add a 10 to each of them. The output should be  [10, 12, 14]. "
      ]
    },
    {
      "cell_type": "code",
      "metadata": {
        "colab": {
          "base_uri": "https://localhost:8080/"
        },
        "id": "xk6m-0VC6xdH",
        "outputId": "86eb8d59-3b18-42fd-caa3-e620b4f5a6b8"
      },
      "source": [
        "nums = [0, 1, 2, 3, 4]\n",
        "# Hints\n",
        "even_squares = [x +10 for x in nums if x % 2 == 0]\n",
        "print(even_squares)"
      ],
      "execution_count": 4,
      "outputs": [
        {
          "output_type": "stream",
          "text": [
            "[10, 12, 14]\n"
          ],
          "name": "stdout"
        }
      ]
    },
    {
      "cell_type": "code",
      "metadata": {
        "id": "VG4kQsBn7NPo"
      },
      "source": [
        ""
      ],
      "execution_count": null,
      "outputs": []
    }
  ]
}